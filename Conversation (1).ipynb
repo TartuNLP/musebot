{
 "cells": [
  {
   "cell_type": "code",
   "execution_count": 1,
   "metadata": {},
   "outputs": [
    {
     "name": "stdout",
     "output_type": "stream",
     "text": [
      "importing Jupyter notebook from TravelBot.ipynb\n",
      "importing Jupyter notebook from PolyBot.ipynb\n",
      "Wall time: 5min 13s\n",
      "Wall time: 5min 16s\n",
      "Wall time: 5min 16s\n",
      "importing Jupyter notebook from WikiBot.ipynb\n",
      "importing Jupyter notebook from WeatherBot.ipynb\n",
      "importing Jupyter notebook from TimeBot.ipynb\n"
     ]
    }
   ],
   "source": [
    "#import import_ipynb\n",
    "from TravelBot import *\n",
    "from WikiBot import wikibot\n",
    "from WeatherBot import weatherbot\n",
    "from TimeBot import timebot"
   ]
  },
  {
   "cell_type": "code",
   "execution_count": 2,
   "metadata": {},
   "outputs": [],
   "source": [
    "# keywords, kw_lang, answer, cutoff=0.43, boost=0, all_lang=None, bigrams=None,  \n",
    "#bigram_lang=None, bigram_cutoff = 1.8, bigram_boost = 1, b2=None, b2_lang=None, b2_cutoff=1.8, b2_boost=1, outputlangs=None\n",
    "\n",
    "bots = [travelbot, wikibot, timebot, weatherbot]"
   ]
  },
  {
   "cell_type": "code",
   "execution_count": 3,
   "metadata": {},
   "outputs": [
    {
     "name": "stdout",
     "output_type": "stream",
     "text": [
      "YOU: che ore sono?\n",
      "BOT: Son las 13:30\n",
      "YOU: que horas son?\n",
      "BOT: Son las 13:30\n",
      "YOU: che ore sono?\n",
      "BOT: Son las 13:32\n",
      "YOU: bye\n",
      "BOT: Have a nice day\n"
     ]
    }
   ],
   "source": [
    "c = Conversation(bots)\n",
    "c.talk2me()"
   ]
  },
  {
   "cell_type": "code",
   "execution_count": null,
   "metadata": {},
   "outputs": [],
   "source": []
  }
 ],
 "metadata": {
  "kernelspec": {
   "display_name": "Python 3",
   "language": "python",
   "name": "python3"
  },
  "language_info": {
   "codemirror_mode": {
    "name": "ipython",
    "version": 3
   },
   "file_extension": ".py",
   "mimetype": "text/x-python",
   "name": "python",
   "nbconvert_exporter": "python",
   "pygments_lexer": "ipython3",
   "version": "3.6.7"
  }
 },
 "nbformat": 4,
 "nbformat_minor": 2
}
