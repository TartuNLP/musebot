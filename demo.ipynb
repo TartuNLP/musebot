{
 "cells": [
  {
   "cell_type": "code",
   "execution_count": null,
   "metadata": {},
   "outputs": [],
   "source": [
    "import polybot\n",
    "from TravelBot import travelbot\n",
    "from WikiBot import wikibot\n",
    "from WeatherBot import weatherbot\n",
    "from TimeBot import timebot"
   ]
  },
  {
   "cell_type": "code",
   "execution_count": 4,
   "metadata": {},
   "outputs": [],
   "source": [
    "# keywords, kw_lang, answer, cutoff=0.43, boost=0, all_lang=None, bigrams=None,  \n",
    "#bigram_lang=None, bigram_cutoff = 1.8, bigram_boost = 1, b2=None, b2_lang=None, b2_cutoff=1.8, b2_boost=1, outputlangs=None\n",
    "bots = [timebot, weatherbot, wikibot, travelbot]"
   ]
  },
  {
   "cell_type": "code",
   "execution_count": 6,
   "metadata": {},
   "outputs": [
    {
     "name": "stdout",
     "output_type": "stream",
     "text": [
      "YOU: che ore sono?\n",
      "BOT: Sono le 01:25\n",
      "YOU: what time is it?\n",
      "BOT: It's 01:25\n",
      "YOU: que tiempo hace en Cadiz?\n",
      "BOT: Cuando?\n",
      "YOU: hoy\n",
      "BOT: Hay cielo despejado y hay 18.43 grados en Cádiz hoy.\n",
      "YOU: Was ist Faschismus?\n",
      "BOT: Faschismus war zunächst die Eigenbezeichnung einer politischen Bewegung, die unter Führung von Benito Mussolini in Italien von 1922 bis 1943/45 die beherrschende politische Macht war und ein diktatorisches Regierungssystem errichtete (siehe Italienischer Faschismus).\n",
      "Ab den 1920er Jahren wurde der Begriff für alle extrem nationalistischen, nach dem Führerprinzip organisierten antiliberalen und antimarxistischen Bewegungen, Ideologien oder Herrschaftssysteme verwendet, die seit dem Ersten Weltkrieg die parlamentarischen Demokratien abzulösen suchten\n",
      "YOU: kes on Kobe Bryant?\n",
      "BOT: Kobe Bean Bryant (sündinud 23. augustil 1978 Philadelphias) on endine USA korvpallur, kes terve NBA karjääri mängis klubis Los Angeles Lakers\n",
      "YOU: voglio andare da Torino a Padova oggi\n",
      "BOT: Sto trovando il modo migliore per andare da Torino a Padova oggi\n",
      "YOU:  где Рим?\n",
      "BOT: Sorry, I didn't understand, could you repeat in other words?\n",
      "YOU: как погода в москве?\n",
      "BOT: когда?\n",
      "YOU:  завтра\n",
      "BOT: Завтра ясное небо, в Москве 18,94 градуса\n",
      "YOU: bye\n",
      "BOT: Have a nice day\n"
     ]
    }
   ],
   "source": [
    "c = polybot.Conversation(bots)\n",
    "c.talk2me()"
   ]
  },
  {
   "cell_type": "code",
   "execution_count": null,
   "metadata": {},
   "outputs": [],
   "source": []
  }
 ],
 "metadata": {
  "kernelspec": {
   "display_name": "Python 3",
   "language": "python",
   "name": "python3"
  },
  "language_info": {
   "codemirror_mode": {
    "name": "ipython",
    "version": 3
   },
   "file_extension": ".py",
   "mimetype": "text/x-python",
   "name": "python",
   "nbconvert_exporter": "python",
   "pygments_lexer": "ipython3",
   "version": "3.6.7"
  }
 },
 "nbformat": 4,
 "nbformat_minor": 2
}
